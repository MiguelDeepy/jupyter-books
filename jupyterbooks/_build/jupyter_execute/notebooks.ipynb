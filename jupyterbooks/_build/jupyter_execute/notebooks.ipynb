{
 "cells": [
  {
   "cell_type": "markdown",
   "metadata": {},
   "source": [
    "# Conteúdo com notebooks\n",
    "\n",
    "Além de escrever texto, o Jupyter Book permite integrar notebooks Jupyter diretamente em seu livro. Isso significa que você pode incluir blocos de código e seus resultados finais dentro do próprio livro.\n",
    "\n",
    "## Markdown + notebooks\n",
    "\n",
    "O Markdown permite incluir imagens, HTML etc. nos seus posts!\n",
    "- Imagens: Adicione fotos, diagramas ou capturas de tela para ilustrar suas ideias. Basta usar a sintaxe Markdown para URLs de imagens ou arquivos locais.\n",
    "\n",
    "- HTML: Incorpore elementos HTML diretamente no texto, como tabelas personalizadas, players de áudio/vídeo ou botões interativos. Lembre-se de usar a tag <pre> para exibir o código HTML sem interpretação.\n",
    "\n",
    "- Formatação avançada: Utilize recursos como negrito, itálico, sublinhado, citações em bloco, títulos e listas para destacar pontos importantes e organizar o conteúdo.\n",
    "\n",
    "![](https://myst-parser.readthedocs.io/en/latest/_static/logo-wide.svg)\n",
    "\n",
    "Você pode também $adicionar_{math}$ e\n",
    "\n",
    "$$\n",
    "matemática^{blocks}\n",
    "$$\n",
    "\n",
    "or\n",
    "\n",
    "$$\n",
    "\\begin{aligned}\n",
    "\\mbox{mean} la_{tex} \\\\ \\\\\n",
    "Bloco de matemática\n",
    "\\end{aligned}\n",
    "$$\n",
    "\n",
    "Mas certifique-se de \\$escapar dos \\$seus sinais de \\$dólar que deseja manter! \n",
    "\n",
    "## MyST markdown\n",
    "\n",
    "MyST markdown works in Jupyter Notebooks as well. For more information about MyST markdown, check\n",
    "out [the MyST guide in Jupyter Book](https://jupyterbook.org/content/myst.html),\n",
    "or see [the MyST markdown documentation](https://myst-parser.readthedocs.io/en/latest/).\n",
    "\n",
    "## MyST markdown\n",
    "O MyST markdown também funciona em notebooks Jupyter. Para mais informações sobre o MyST markdown, confira:\n",
    "\n",
    "[o guia MyST no Jupyter Book](https://jupyterbook.org/content/myst.html)\n",
    "[a documentação do MyST markdown](https://myst-parser.readthedocs.io/en/latest/)\n",
    "\n",
    "## Blocos de código e saídas\n",
    "O Jupyter Book também incorporará seus blocos de código e saída no seu livro.\n",
    "Por exemplo, aqui está um código Matplotlib de exemplo:"
   ]
  },
  {
   "cell_type": "code",
   "execution_count": 1,
   "metadata": {},
   "outputs": [
    {
     "ename": "ModuleNotFoundError",
     "evalue": "No module named 'matplotlib'",
     "output_type": "error",
     "traceback": [
      "\u001b[0;31m---------------------------------------------------------------------------\u001b[0m",
      "\u001b[0;31mModuleNotFoundError\u001b[0m                       Traceback (most recent call last)",
      "Cell \u001b[0;32mIn[1], line 1\u001b[0m\n\u001b[0;32m----> 1\u001b[0m \u001b[38;5;28;01mfrom\u001b[39;00m \u001b[38;5;21;01mmatplotlib\u001b[39;00m \u001b[38;5;28;01mimport\u001b[39;00m rcParams, cycler\n\u001b[1;32m      2\u001b[0m \u001b[38;5;28;01mimport\u001b[39;00m \u001b[38;5;21;01mmatplotlib\u001b[39;00m\u001b[38;5;21;01m.\u001b[39;00m\u001b[38;5;21;01mpyplot\u001b[39;00m \u001b[38;5;28;01mas\u001b[39;00m \u001b[38;5;21;01mplt\u001b[39;00m\n\u001b[1;32m      3\u001b[0m \u001b[38;5;28;01mimport\u001b[39;00m \u001b[38;5;21;01mnumpy\u001b[39;00m \u001b[38;5;28;01mas\u001b[39;00m \u001b[38;5;21;01mnp\u001b[39;00m\n",
      "\u001b[0;31mModuleNotFoundError\u001b[0m: No module named 'matplotlib'"
     ]
    }
   ],
   "source": [
    "from matplotlib import rcParams, cycler\n",
    "import matplotlib.pyplot as plt\n",
    "import numpy as np\n",
    "plt.ion()"
   ]
  },
  {
   "cell_type": "code",
   "execution_count": null,
   "metadata": {},
   "outputs": [],
   "source": [
    "# Fixing random state for reproducibility\n",
    "np.random.seed(19680801)\n",
    "\n",
    "N = 10\n",
    "data = [np.logspace(0, 1, 100) + np.random.randn(100) + ii for ii in range(N)]\n",
    "data = np.array(data).T\n",
    "cmap = plt.cm.coolwarm\n",
    "rcParams['axes.prop_cycle'] = cycler(color=cmap(np.linspace(0, 1, N)))\n",
    "\n",
    "\n",
    "from matplotlib.lines import Line2D\n",
    "custom_lines = [Line2D([0], [0], color=cmap(0.), lw=4),\n",
    "                Line2D([0], [0], color=cmap(.5), lw=4),\n",
    "                Line2D([0], [0], color=cmap(1.), lw=4)]\n",
    "\n",
    "fig, ax = plt.subplots(figsize=(10, 5))\n",
    "lines = ax.plot(data)\n",
    "ax.legend(custom_lines, ['Cold', 'Medium', 'Hot']);"
   ]
  },
  {
   "cell_type": "markdown",
   "metadata": {},
   "source": [
    "Há muito mais que você pode fazer com os resultados (como incluir resultados interativos) em seu livro. Para mais informações sobre isso, consulte [A documentação do Jupyter Book](https://jupyterbook.org)."
   ]
  }
 ],
 "metadata": {
  "kernelspec": {
   "display_name": "Python 3",
   "language": "python",
   "name": "python3"
  },
  "language_info": {
   "codemirror_mode": {
    "name": "ipython",
    "version": 3
   },
   "file_extension": ".py",
   "mimetype": "text/x-python",
   "name": "python",
   "nbconvert_exporter": "python",
   "pygments_lexer": "ipython3",
   "version": "3.12.0"
  },
  "widgets": {
   "application/vnd.jupyter.widget-state+json": {
    "state": {},
    "version_major": 2,
    "version_minor": 0
   }
  }
 },
 "nbformat": 4,
 "nbformat_minor": 4
}