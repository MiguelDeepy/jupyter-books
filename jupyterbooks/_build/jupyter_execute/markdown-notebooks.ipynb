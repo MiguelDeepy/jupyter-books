{
 "cells": [
  {
   "cell_type": "markdown",
   "id": "d16d318e",
   "metadata": {},
   "source": [
    "# Notebooks com MyST Markdown\n",
    "\n",
    "O Jupyter Book também permite que você escreva notebooks baseados em texto usando MyST Markdown.\n",
    "Consulte [A documentação Notebooks com MyST Markdown](https://jupyterbook.org/file-types/myst-notebooks.html) para instruções detalhadas.\n",
    "Esta página apresenta um notebook escrito em MyST Markdown.\n",
    "\n",
    "## Uma célula de exemplo\n",
    "\n",
    "Com MyST Markdown, você pode definir células de código com uma diretiva como esta:"
   ]
  },
  {
   "cell_type": "code",
   "execution_count": 1,
   "id": "3cc89cdf",
   "metadata": {},
   "outputs": [
    {
     "name": "stdout",
     "output_type": "stream",
     "text": [
      "4\n"
     ]
    }
   ],
   "source": [
    "print(2 + 2)"
   ]
  },
  {
   "cell_type": "markdown",
   "id": "73e36cb8",
   "metadata": {},
   "source": [
    "Ao construir seu livro, o conteúdo de qualquer bloco `{code-cell}` será executado com seu kernel Jupyter padrão e seus resultados serão exibidos junto com o restante do seu conteúdo.\n",
    "\n",
    "```{seealso}\n",
    "O Jupyter Book usa [Jupytext](https://jupytext.readthedocs.io/en/latest/) para converter arquivos de texto em notebooks e também suporta [diversos outros formatos de arquivos de texto para notebooks](https://jupyterbook.org/file-types/jupytext.html).\n",
    "```\n",
    "\n",
    "## Criando um notebook com MyST Markdown\n",
    "\n",
    "Os notebooks MyST Markdown são definidos por duas coisas:\n",
    "\n",
    "Metadados YAML: necessários para entender se/como converter os arquivos de texto em notebooks (incluindo informações sobre o kernel necessário). Veja o YAML no topo desta página como exemplo.\n",
    "Presença de diretivas `{code-cell}` que serão executadas com seu livro.\n",
    "\n",
    "É tudo o que você precisa para começar!\n",
    "\n",
    "## Adicionar rapidamente metadados YAML para notebooks MyST\n",
    "\n",
    "Se você tem um arquivo markdown e deseja adicionar rapidamente metadados YAML a ele, para que o Jupyter Book o trate como um Notebook MyST Markdown, execute o seguinte comando:\n",
    "\n",
    "``` bash\n",
    "jupyter-book myst init path/to/markdownfile.md\n",
    "```"
   ]
  }
 ],
 "metadata": {
  "jupytext": {
   "formats": "md:myst",
   "text_representation": {
    "extension": ".md",
    "format_name": "myst",
    "format_version": 0.13,
    "jupytext_version": "1.11.5"
   }
  },
  "kernelspec": {
   "display_name": "Python 3",
   "language": "python",
   "name": "python3"
  },
  "language_info": {
   "codemirror_mode": {
    "name": "ipython",
    "version": 3
   },
   "file_extension": ".py",
   "mimetype": "text/x-python",
   "name": "python",
   "nbconvert_exporter": "python",
   "pygments_lexer": "ipython3",
   "version": "3.12.0"
  },
  "source_map": [
   13,
   25,
   27
  ]
 },
 "nbformat": 4,
 "nbformat_minor": 5
}